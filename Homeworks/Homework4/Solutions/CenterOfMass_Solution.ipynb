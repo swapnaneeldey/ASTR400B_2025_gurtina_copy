{
 "cells": [
  {
   "cell_type": "code",
   "execution_count": null,
   "metadata": {
    "collapsed": true
   },
   "outputs": [],
   "source": [
    "# Homework 4\n",
    "# Center of Mass Position and Velocity\n",
    "# write your name here"
   ]
  },
  {
   "cell_type": "code",
   "execution_count": null,
   "metadata": {
    "collapsed": true
   },
   "outputs": [],
   "source": [
    "# remember this is just a template, you don't need to follow every step\n",
    "# if you have your own method to solve the homework, it is totally fine"
   ]
  },
  {
   "cell_type": "code",
   "execution_count": 2,
   "metadata": {
    "ExecuteTime": {
     "end_time": "2020-02-04T23:59:21.657237Z",
     "start_time": "2020-02-04T23:59:21.653687Z"
    }
   },
   "outputs": [],
   "source": [
    "# import modules\n",
    "import numpy as np\n",
    "import astropy.units as u\n",
    "import astropy.table as tbl\n",
    "\n",
    "from ReadFile import Read"
   ]
  },
  {
   "cell_type": "code",
   "execution_count": 3,
   "metadata": {
    "ExecuteTime": {
     "end_time": "2020-02-04T23:59:24.003059Z",
     "start_time": "2020-02-04T23:59:23.979271Z"
    }
   },
   "outputs": [],
   "source": [
    "class CenterOfMass:\n",
    "# Class to define COM position and velocity properties of a given galaxy \n",
    "# and simulation snapshot\n",
    "\n",
    "    def __init__(self, filename, ptype):\n",
    "        ''' Class to calculate the 6-D phase-space position of a galaxy's center of mass using\n",
    "        a specified particle type. \n",
    "            \n",
    "            PARAMETERS\n",
    "            ----------\n",
    "            filename : `str`\n",
    "                snapshot file\n",
    "            ptype : `int; 1, 2, or 3`\n",
    "                particle type to use for COM calculations\n",
    "        '''\n",
    "     \n",
    "        # read data in the given file using Read\n",
    "        self.time, self.total, self.data = Read(filename)                                                                                             \n",
    "\n",
    "        #create an array to store indexes of particles of desired Ptype                                \n",
    "        self.index = np.where(self.data['type'] == ptype)\n",
    "\n",
    "        # store the mass, positions, velocities of only the particles of the given type\n",
    "        # the following only gives the example of storing the mass\n",
    "        self.m = self.data['m'][self.index]\n",
    "        # write your own code to complete this for positions and velocities\n",
    "        self.x = self.data['x'][self.index]\n",
    "        self.y = self.data['y'][self.index]\n",
    "        self.z = self.data['z'][self.index]\n",
    "        self.vx = self.data['vx'][self.index]\n",
    "        self.vy = self.data['vy'][self.index]\n",
    "        self.vz = self.data['vz'][self.index]\n",
    "\n",
    "\n",
    "    def COMdefine(self,a,b,c,m):\n",
    "        ''' Method to compute the COM of a generic vector quantity by direct weighted averaging.\n",
    "        \n",
    "        PARAMETERS\n",
    "        ----------\n",
    "        a : `float or np.ndarray of floats`\n",
    "            first vector component\n",
    "        b : `float or np.ndarray of floats`\n",
    "            second vector component\n",
    "        c : `float or np.ndarray of floats`\n",
    "            third vector component\n",
    "        m : `float or np.ndarray of floats`\n",
    "            particle masses\n",
    "        \n",
    "        RETURNS\n",
    "        -------\n",
    "        a_com : `float`\n",
    "            first component on the COM vector\n",
    "        b_com : `float`\n",
    "            second component on the COM vector\n",
    "        c_com : `float`\n",
    "            third component on the COM vector\n",
    "        '''\n",
    "        # write your own code to compute the generic COM \n",
    "        #using Eq. 1 in the homework instructions\n",
    "        # xcomponent Center of mass\n",
    "        a_com = np.sum(a*m)/np.sum(m)\n",
    "        # ycomponent Center of mass\n",
    "        b_com = np.sum(b*m)/np.sum(m)\n",
    "        # zcomponent Center of mass\n",
    "        c_com = np.sum(c*m)/np.sum(m)\n",
    "        \n",
    "        # return the 3 components separately\n",
    "        return a_com, b_com, c_com\n",
    "    \n",
    "    \n",
    "    def COM_P(self, delta):\n",
    "        '''Method to compute the position of the center of mass of the galaxy \n",
    "        using the shrinking-sphere method.\n",
    "\n",
    "        PARAMETERS\n",
    "        ----------\n",
    "        delta : `float, optional`\n",
    "            error tolerance in kpc. Default is 0.1 kpc\n",
    "        \n",
    "        RETURNS\n",
    "        ----------\n",
    "        p_COM : `np.ndarray of astropy.Quantity'\n",
    "            3-D position of the center of mass in kpc\n",
    "        '''                                                                     \n",
    "\n",
    "        # Center of Mass Position                                                                                      \n",
    "        ###########################                                                                                    \n",
    "\n",
    "        # Try a first guess at the COM position by calling COMdefine                                                   \n",
    "        x_COM, y_COM, z_COM = self.COMdefine(self.x, self.y, self.z, self.m)\n",
    "        # compute the magnitude of the COM position vector.\n",
    "        # write your own code below\n",
    "        r_COM = np.sqrt(x_COM**2 + y_COM**2 + z_COM**2)\n",
    "\n",
    "\n",
    "        # iterative process to determine the center of mass                                                            \n",
    "\n",
    "        # change reference frame to COM frame                                                                          \n",
    "        # compute the difference between particle coordinates                                                          \n",
    "        # and the first guess at COM position\n",
    "        # write your own code below\n",
    "        x_new = self.x - x_COM\n",
    "        y_new = self.y - y_COM\n",
    "        z_new = self.z - z_COM\n",
    "        r_new = np.sqrt(x_new**2.0 + y_new**2.0 +z_new**2.0)\n",
    "\n",
    "        # find the max 3D distance of all particles from the guessed COM                                               \n",
    "        # will re-start at half that radius (reduced radius)                                                           \n",
    "        r_max = max(r_new)/2.0\n",
    "        \n",
    "        # pick an initial value for the change in COM position                                                      \n",
    "        # between the first guess above and the new one computed from half that volume\n",
    "        # it should be larger than the input tolerance (delta) initially\n",
    "        change = 1000.0\n",
    "\n",
    "        # start iterative process to determine center of mass position                                                 \n",
    "        # delta is the tolerance for the difference in the old COM and the new one.    \n",
    "        \n",
    "        while (change > delta):\n",
    "            # select all particles within the reduced radius (starting from original x,y,z, m)\n",
    "            # write your own code below (hints, use np.where)\n",
    "            index2 = np.where(r_new < r_max)\n",
    "            x2 = self.x[index2]\n",
    "            y2 = self.y[index2]\n",
    "            z2 = self.z[index2]\n",
    "            m2 = self.m[index2]\n",
    "          \n",
    "\n",
    "            # Refined COM position:                                                                                    \n",
    "            # compute the center of mass position using                                                                \n",
    "            # the particles in the reduced radius\n",
    "            # write your own code below\n",
    "            x_COM2, y_COM2, z_COM2 = self.COMdefine(x2,y2,z2,m2)\n",
    "            \n",
    "            # compute the new 3D COM position\n",
    "            # write your own code below\n",
    "            r_COM2 = np.sqrt(x_COM2**2 + y_COM2**2 + z_COM2**2) \n",
    "\n",
    "            # determine the difference between the previous center of mass position                                    \n",
    "            # and the new one.                                                                                         \n",
    "            change = np.abs(r_COM - r_COM2)\n",
    "            # uncomment the following line if you want to check this                                                                                               \n",
    "            # print (\"CHANGE = \", change)                                                                                     \n",
    "\n",
    "            # Before loop continues, reset : r_max, particle separations and COM                                        \n",
    "\n",
    "            # reduce the volume by a factor of 2 again                                                                 \n",
    "            r_max /= 2.0\n",
    "            # check this.                                                                                              \n",
    "            #print (\"maxR\", r_max)                                                                                      \n",
    "\n",
    "            # Change the frame of reference to the newly computed COM.                                                 \n",
    "            # subtract the new COM\n",
    "            # write your own code below\n",
    "            x_new = self.x - x_COM2\n",
    "            y_new = self.y - y_COM2\n",
    "            z_new = self.z - z_COM2\n",
    "            r_new = np.sqrt(x_new**2 + y_new**2 + z_new**2)\n",
    "          \n",
    "\n",
    "            # set the center of mass positions to the refined values                                                   \n",
    "            x_COM = x_COM2\n",
    "            y_COM = y_COM2\n",
    "            z_COM = z_COM2\n",
    "            r_COM = r_COM2\n",
    "\n",
    "            # create an array  to store the COM position                                                                                                                                                       \n",
    "            p_COM = np.array([x_COM, y_COM, z_COM])\n",
    "\n",
    "        # set the correct units using astropy and round all values\n",
    "        # and then return the COM positon vector\n",
    "        # write your own code below\n",
    "        return np.around(p_COM, 2)*u.kpc\n",
    "        \n",
    "        \n",
    "    def COM_V(self, x_COM, y_COM, z_COM):\n",
    "        ''' Method to compute the center of mass velocity based on the center of mass\n",
    "        position.\n",
    "\n",
    "        PARAMETERS\n",
    "        ----------\n",
    "        x_COM : 'astropy quantity'\n",
    "            The x component of the center of mass in kpc\n",
    "        y_COM : 'astropy quantity'\n",
    "            The y component of the center of mass in kpc\n",
    "        z_COM : 'astropy quantity'\n",
    "            The z component of the center of mass in kpc\n",
    "            \n",
    "        RETURNS\n",
    "        -------\n",
    "        v_COM : `np.ndarray of astropy.Quantity'\n",
    "            3-D velocity of the center of mass in km/s\n",
    "        '''\n",
    "        \n",
    "        # the max distance from the center that we will use to determine \n",
    "        #the center of mass velocity                   \n",
    "        rv_max = 15.0*u.kpc\n",
    "\n",
    "        # determine the position of all particles \n",
    "        # relative to the center of mass position (x_COM, y_COM, z_COM)\n",
    "        # write your own code below\n",
    "        xV = self.x[:]*u.kpc - x_COM\n",
    "        yV = self.y[:]*u.kpc - y_COM\n",
    "        zV = self.z[:]*u.kpc - z_COM\n",
    "        rV = np.sqrt(xV**2 + yV**2 + zV**2)\n",
    "        \n",
    "        # determine the index for those particles within the max radius\n",
    "        # write your own code below\n",
    "        indexV = np.where(rV < rv_max)\n",
    "        \n",
    "        # determine the velocity and mass of those particles within the max radius\n",
    "        # write your own code below\n",
    "        vx_new = self.vx[indexV]\n",
    "        vy_new = self.vy[indexV]\n",
    "        vz_new = self.vz[indexV]\n",
    "        m_new =  self.m[indexV]\n",
    "       \n",
    "        \n",
    "        # compute the center of mass velocity using those particles\n",
    "        # write your own code below\n",
    "        vx_COM, vy_COM, vz_COM =   self.COMdefine(vx_new,vy_new,vz_new, m_new)\n",
    "        \n",
    "        # create an array to store the COM velocity\n",
    "        # write your own code below\n",
    "        v_COM = np.array([vx_COM,vy_COM,vz_COM])\n",
    "\n",
    "        # return the COM vector\n",
    "        # set the correct units using astropy\n",
    "        # round all values\n",
    "        return np.round(v_COM, 2)*u.km/u.s\n",
    "    "
   ]
  },
  {
   "cell_type": "code",
   "execution_count": 4,
   "metadata": {
    "ExecuteTime": {
     "end_time": "2020-02-04T23:59:30.160978Z",
     "start_time": "2020-02-04T23:59:26.220455Z"
    }
   },
   "outputs": [],
   "source": [
    "# Create  a Center of mass object for the MW, M31 and M33                                                              \n",
    "MW_COM = CenterOfMass(\"MW_000.txt\", 2)\n",
    "M31_COM = CenterOfMass(\"M31_000.txt\", 2)\n",
    "M33_COM = CenterOfMass(\"M33_000.txt\", 2)"
   ]
  },
  {
   "cell_type": "code",
   "execution_count": 5,
   "metadata": {
    "ExecuteTime": {
     "end_time": "2020-02-04T23:59:30.820428Z",
     "start_time": "2020-02-04T23:59:30.761163Z"
    }
   },
   "outputs": [
    {
     "name": "stdout",
     "output_type": "stream",
     "text": [
      "MW COM xyz position: [-2.07  2.95 -1.45] kpc and xyz velocity: [ 0.94  6.32 -1.35] km / s\n",
      "M31 COM xyz position: [-377.66  611.43 -284.64] kpc and xyz velocity: [ 0.94  6.32 -1.35] km / s\n",
      "M33 COM xyz position: [-476.22  491.44 -412.4 ] kpc and xyz velocity: [ 44.42 101.78 142.23] km / s\n"
     ]
    }
   ],
   "source": [
    "# find and print the COM positions in phase-space for each galaxy\n",
    "\n",
    "# MW \n",
    "MW_COM_p = MW_COM.COM_P(0.1)\n",
    "MW_COM_v = MW_COM.COM_V(MW_COM_p[0],MW_COM_p[1],MW_COM_p[2])\n",
    "print('MW COM xyz position:', MW_COM_p, 'and xyz velocity:', MW_COM_v)\n",
    "\n",
    "# M31 \n",
    "M31_COM_p = M31_COM.COM_P(0.1)\n",
    "M31_COM_v = M31_COM.COM_V(M31_COM_p[0],M31_COM_p[1],M31_COM_p[2])\n",
    "print('M31 COM xyz position:', M31_COM_p, 'and xyz velocity:', MW_COM_v)\n",
    "\n",
    "# M33 \n",
    "M33_COM_p = M33_COM.COM_P(0.1)\n",
    "M33_COM_v = M33_COM.COM_V(M33_COM_p[0],M33_COM_p[1],M33_COM_p[2])\n",
    "print('M33 COM xyz position:', M33_COM_p, 'and xyz velocity:', M33_COM_v)"
   ]
  },
  {
   "cell_type": "code",
   "execution_count": 6,
   "metadata": {},
   "outputs": [
    {
     "data": {
      "text/html": [
       "<i>Table length=3</i>\n",
       "<table id=\"table140640314753136-129075\" class=\"table-striped table-bordered table-condensed\">\n",
       "<thead><tr><th>idx</th><th>Galaxy</th><th>X-component (kpc)</th><th>Y-Component (kpc)</th><th>Z-Component (kpc)</th><th>VX-component (km/s)</th><th>VY-Component (km/s)</th><th>VZ-Component (km/s)</th></tr></thead>\n",
       "<tr><td>0</td><td>MW COM</td><td>-2.07</td><td>2.95</td><td>-1.45</td><td>0.94</td><td>6.32</td><td>-1.35</td></tr>\n",
       "<tr><td>1</td><td>M31 COM</td><td>-377.66</td><td>611.43</td><td>-284.64</td><td>72.85</td><td>-72.14</td><td>49.0</td></tr>\n",
       "<tr><td>2</td><td>M33 COM</td><td>-476.22</td><td>491.44</td><td>-412.4</td><td>44.42</td><td>101.78</td><td>142.23</td></tr>\n",
       "</table><style>table.dataTable {clear: both; width: auto !important; margin: 0 !important;}\n",
       ".dataTables_info, .dataTables_length, .dataTables_filter, .dataTables_paginate{\n",
       "display: inline-block; margin-right: 1em; }\n",
       ".paginate_button { margin-right: 5px; }\n",
       "</style>\n",
       "<script>\n",
       "\n",
       "var astropy_sort_num = function(a, b) {\n",
       "    var a_num = parseFloat(a);\n",
       "    var b_num = parseFloat(b);\n",
       "\n",
       "    if (isNaN(a_num) && isNaN(b_num))\n",
       "        return ((a < b) ? -1 : ((a > b) ? 1 : 0));\n",
       "    else if (!isNaN(a_num) && !isNaN(b_num))\n",
       "        return ((a_num < b_num) ? -1 : ((a_num > b_num) ? 1 : 0));\n",
       "    else\n",
       "        return isNaN(a_num) ? -1 : 1;\n",
       "}\n",
       "\n",
       "require.config({paths: {\n",
       "    datatables: 'https://cdn.datatables.net/1.10.12/js/jquery.dataTables.min'\n",
       "}});\n",
       "require([\"datatables\"], function(){\n",
       "    console.log(\"$('#table140640314753136-129075').dataTable()\");\n",
       "    \n",
       "jQuery.extend( jQuery.fn.dataTableExt.oSort, {\n",
       "    \"optionalnum-asc\": astropy_sort_num,\n",
       "    \"optionalnum-desc\": function (a,b) { return -astropy_sort_num(a, b); }\n",
       "});\n",
       "\n",
       "    $('#table140640314753136-129075').dataTable({\n",
       "        order: [],\n",
       "        pageLength: 50,\n",
       "        lengthMenu: [[10, 25, 50, 100, 500, 1000, -1], [10, 25, 50, 100, 500, 1000, 'All']],\n",
       "        pagingType: \"full_numbers\",\n",
       "        columnDefs: [{targets: [0], type: \"optionalnum\"}]\n",
       "    });\n",
       "});\n",
       "</script>\n"
      ],
      "text/plain": [
       "<IPython.core.display.HTML object>"
      ]
     },
     "execution_count": 6,
     "metadata": {},
     "output_type": "execute_result"
    }
   ],
   "source": [
    "# Making a Table of Results\n",
    "\n",
    "# we first gather all results and put them into a numpy array\n",
    "# *tuple() will extract the tuple, kind of like C-language\n",
    "tab_results = ['MW COM', *tuple(MW_COM_p.value), *tuple(MW_COM_v.value), \n",
    "               'M31 COM', *tuple(M31_COM_p.value), *tuple(M31_COM_v.value), \n",
    "               'M33 COM', *tuple(M33_COM_p.value), *tuple(M33_COM_v.value)]\n",
    "tab_results = np.reshape(tab_results, (3, 7)) # convert 1D array to 2D\n",
    "\n",
    "# make and display the table with astropy\n",
    "t = tbl.Table(tab_results, \n",
    "              names = ['Galaxy', 'X-component (kpc)', 'Y-Component (kpc)', \n",
    "                       'Z-Component (kpc)','VX-component (km/s)', \n",
    "                       'VY-Component (km/s)', 'VZ-Component (km/s)'])\n",
    "t.show_in_notebook()"
   ]
  },
  {
   "cell_type": "code",
   "execution_count": 7,
   "metadata": {},
   "outputs": [
    {
     "name": "stdout",
     "output_type": "stream",
     "text": [
      "Separation between the MW and M31 = 769.0 kpc\n",
      "Relative Velocity between the MW and M31 = 118.0 km / s\n"
     ]
    }
   ],
   "source": [
    "# Q2 \n",
    "# Determine the separation between the MW and M31                                                                      \n",
    "MW_M31 = np.sqrt((M31_COM_p[0]-MW_COM_p[0])**2 + (M31_COM_p[1]-MW_COM_p[1])**2 + (M31_COM_p[2]-MW_COM_p[2])**2)\n",
    "print(\"Separation between the MW and M31 =\", np.round(MW_M31))\n",
    "\n",
    "# Determine the relative velocity between the MW and M31                                                                      \n",
    "vMW_M31 = np.sqrt((M31_COM_v[0]-MW_COM_v[0])**2 + (M31_COM_v[1]-MW_COM_v[1])**2 + (M31_COM_v[2]-MW_COM_v[2])**2)\n",
    "print(\"Relative Velocity between the MW and M31 =\", np.round(vMW_M31))\n"
   ]
  },
  {
   "cell_type": "code",
   "execution_count": 8,
   "metadata": {},
   "outputs": [
    {
     "name": "stdout",
     "output_type": "stream",
     "text": [
      "Relative Position between M33 and M31 =  201.0 kpc\n",
      "Relative Velocity between M33 and M31 =  199.0 km / s\n"
     ]
    }
   ],
   "source": [
    "# Q3\n",
    "# Determine the relative position between M33 and M31                                                                  \n",
    "M33_M31 = np.sqrt((M33_COM_p[0]-M31_COM_p[0])**2 + (M33_COM_p[1]-M31_COM_p[1])**2 + (M33_COM_p[2]-M31_COM_p[2])**2)\n",
    "print(\"Relative Position between M33 and M31 = \", np.round(M33_M31))\n",
    "\n",
    "\n",
    "# Determine the relative velocity between M33 and M31                                                                  \n",
    "vM33_M31 = np.sqrt((M33_COM_v[0]-M31_COM_v[0])**2 + (M33_COM_v[1]-M31_COM_v[1])**2 + (M33_COM_v[2]-M31_COM_v[2])**2)\n",
    "print(\"Relative Velocity between M33 and M31 = \", np.round(vM33_M31))\n"
   ]
  },
  {
   "cell_type": "markdown",
   "metadata": {},
   "source": [
    "Q4:  The iterative procedue is necessary because as galaxies interact their stars get thrown to large radii with different speeds. Tidal tails are not spherically symmetric; this can cause the COM position calculation to be really off if you are using all the particles at large radii. "
   ]
  },
  {
   "cell_type": "code",
   "execution_count": null,
   "metadata": {},
   "outputs": [],
   "source": []
  }
 ],
 "metadata": {
  "kernelspec": {
   "display_name": "Python 3 (ipykernel)",
   "language": "python",
   "name": "python3"
  },
  "language_info": {
   "codemirror_mode": {
    "name": "ipython",
    "version": 3
   },
   "file_extension": ".py",
   "mimetype": "text/x-python",
   "name": "python",
   "nbconvert_exporter": "python",
   "pygments_lexer": "ipython3",
   "version": "3.9.13"
  },
  "varInspector": {
   "cols": {
    "lenName": 16,
    "lenType": 16,
    "lenVar": 40
   },
   "kernels_config": {
    "python": {
     "delete_cmd_postfix": "",
     "delete_cmd_prefix": "del ",
     "library": "var_list.py",
     "varRefreshCmd": "print(var_dic_list())"
    },
    "r": {
     "delete_cmd_postfix": ") ",
     "delete_cmd_prefix": "rm(",
     "library": "var_list.r",
     "varRefreshCmd": "cat(var_dic_list()) "
    }
   },
   "types_to_exclude": [
    "module",
    "function",
    "builtin_function_or_method",
    "instance",
    "_Feature"
   ],
   "window_display": false
  }
 },
 "nbformat": 4,
 "nbformat_minor": 2
}
