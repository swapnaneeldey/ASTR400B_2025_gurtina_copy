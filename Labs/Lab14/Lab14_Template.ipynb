{
 "cells": [
  {
   "cell_type": "markdown",
   "metadata": {},
   "source": [
    "# Lab 14 Template              \n",
    "\n",
    "Proving that the SNe data is consistent with the BenchMark Cosmology.\n"
   ]
  },
  {
   "cell_type": "markdown",
   "metadata": {},
   "source": [
    "Before we get started, let's execute the following cell which is almost always needed for our notebooks:"
   ]
  },
  {
   "cell_type": "code",
   "execution_count": null,
   "metadata": {},
   "outputs": [],
   "source": [
    "import numpy as np\n",
    "import matplotlib.pyplot as plt\n",
    "\n",
    "import astropy.units as u\n",
    "from astropy.constants import c\n",
    "\n",
    "# Importing the solutions from Lab 13\n",
    "from Lab13_Soln import CosmologicalTools"
   ]
  },
  {
   "cell_type": "code",
   "execution_count": null,
   "metadata": {},
   "outputs": [],
   "source": [
    "\n",
    "# Define the benchmark cosmology at z =0\n",
    "# Planck 2016 results. XIII. Cosmological parameters   \n",
    "# Planck Collaboration+2016 A&A 594 13  Table 4, column 2 \n",
    "\n",
    "OmegaM0_planck = 0.308   # Matter Density Parameter\n",
    "OmegaR0_planck = 8.24e-5  # Radiation Density Parameter\n",
    "OmegaL0_planck = 0.692  # Dark Energy Density Parameter\n",
    "h_planck = 0.6781   # Hubble Constant  100 h km/s/Mpc\n"
   ]
  },
  {
   "cell_type": "code",
   "execution_count": null,
   "metadata": {},
   "outputs": [],
   "source": [
    "# Define the Einstein-DeSitter cosmology (Matter Dominated)\n",
    "OmegaMD = 1\n",
    "OmegaRD = 0\n",
    "OmegaLD = 0\n",
    "# h is the same = h_planck"
   ]
  },
  {
   "cell_type": "code",
   "execution_count": null,
   "metadata": {},
   "outputs": [],
   "source": [
    "# Initialize Instances of the Cosmological Tools Class. \n",
    "BenchMark = CosmologicalTools(OmegaM0_planck,OmegaR0_planck,OmegaL0_planck,h_planck)\n",
    "EinsteinDeSitter = CosmologicalTools(OmegaMD,OmegaRD,OmegaLD,h_planck)"
   ]
  },
  {
   "cell_type": "markdown",
   "metadata": {},
   "source": [
    "\n",
    "\n",
    "In this exercise we will use data from the Supernova Cosmology project, one of the two teams which first found that the expansion rate of the Universe is accelerating in 1999. A simple introduction to the methods and findings of the SCP group can be found at https://newscenter.lbl.gov/2009/10/27/evolving-dark-energy/. The original paper is Perlmutter *et al.* 1999, \"Measurement of $\\Omega$ and $\\Lambda$ from 42 High Redshift Supernovae\", The Astrophysical Journal, Vol. 517, page 565.\n",
    "\n",
    "The data set we will be using is a more recent sample, containing observations of 580 supernovae, known as the Union 2.1 sample from the paper Suzuki *et al*. 2012, \"THE *HUBBLE SPACE TELESCOPE* CLUSTER SUPERNOVA SURVEY. V. IMPROVING THE DARK-ENERGY CONSTRAINTS ABOVE $z>1$ AND BUILDING AN EARLY-TYPE-HOSTED SUPERNOVA SAMPLE\", The Astrophysical Journal, vol. 746, page 85.\n",
    "\n",
    "The data are in the file SNeData.txt."
   ]
  },
  {
   "cell_type": "markdown",
   "metadata": {},
   "source": [
    "Take a look at the file using the `with` statement. \n",
    "\n",
    "One should always close files when finished using them.\n",
    "The `with` statement makes this automatic.\n",
    "\n",
    "Lets simply open the file and print out the first 10 lines to see how the file is formatted:"
   ]
  },
  {
   "cell_type": "code",
   "execution_count": null,
   "metadata": {
    "scrolled": true
   },
   "outputs": [],
   "source": [
    "with open('SNeData.txt', 'r') as infile:\n",
    "    for i in range(10):\n",
    "        line = infile.readline()\n",
    "        line = line.rstrip(\"\\n\")\n",
    "        print(line)"
   ]
  },
  {
   "cell_type": "markdown",
   "metadata": {},
   "source": [
    "The top of any good data file intended for sharing with others contains a \"header\" -- some lines at the top which describe the contents of the file.\n",
    "\n",
    "Here we see that the file contains the SCP Union2.1 data, and that the columns are:\n",
    "\n",
    " * the name of the supernova\n",
    " * the redshift measured from its spectrum\n",
    " * its distance modulus\n",
    " * an estimate of the measurement error in the distance modulus\n",
    " * the probability the supernova occurred in a low-mass host galaxy\n",
    " \n"
   ]
  },
  {
   "cell_type": "markdown",
   "metadata": {},
   "source": [
    "# Part A"
   ]
  },
  {
   "cell_type": "markdown",
   "metadata": {},
   "source": [
    "The difference between the absolute magnitude $M$ and the apparent magnitude $m$, a number called the *distance modulus* which depends only upon the distance to the source\n",
    "\n",
    "$$\n",
    "\\begin{split}\n",
    "m-M &= - 2.5 \\log_{10} \\left(\\frac{1}{F_0}\\frac{L}{4\\pi d^2}\\right) + 2.5 \\log_{10}\\left(\\frac{1}{F_0}\\frac{L}{4\\pi(10\\ \\textrm{pc})^2}\\right)  \\\\\n",
    "&= 5 \\log_{10}\\left(\\frac{d}{10\\ \\textrm{pc}}\\right)\n",
    "\\end{split}\n",
    "$$\n",
    "Because $M$ and $m$ are logarithmic functions, their difference is proportional to the *ratio* of the distance $d$ to 10 pc.\n",
    "\n",
    "This is the distance measurement given in the data file for the distance to the supernovae. The measured LUMINOSITY distance is then\n",
    "\n",
    "$$ d_L = 10^{(m-M)/5 +1} \\textrm{pc} $$"
   ]
  },
  {
   "cell_type": "code",
   "execution_count": null,
   "metadata": {},
   "outputs": [],
   "source": [
    "def Distance_fromMod(mod):\n",
    "\n",
    "    \"\"\" Function to compute the distance using the distance modulus\n",
    "    PARAMETERS\n",
    "    ----------\n",
    "    mod: `float`\n",
    "        distance modulus (apparent magnitude - absolute magnitude)\n",
    "\n",
    "    OUTPUTS\n",
    "    -------\n",
    "    DL: `float`\n",
    "        luminiosity distance in Mpc\n",
    "    \"\"\"\n",
    "    \n",
    "    # Fill this in \n",
    "    \n",
    "    return DL"
   ]
  },
  {
   "cell_type": "code",
   "execution_count": null,
   "metadata": {},
   "outputs": [],
   "source": [
    "# Read the file in and store the values using `npgenfromtxt`\n"
   ]
  },
  {
   "cell_type": "code",
   "execution_count": null,
   "metadata": {},
   "outputs": [],
   "source": [
    "# Create a plot of Distance Modulus Vs. Redshift\n",
    "# This is Figure 4 of Suzuki et al. \n",
    "\n",
    "fig = plt.figure(figsize=(10,5))\n",
    "ax = plt.subplot(111)\n",
    "\n",
    "# plot here\n",
    "\n",
    "ax.set_xlabel('z', fontsize=22)\n",
    "ax.set_ylabel('m-M', fontsize=22)\n",
    "ax.set_title('Distance Modulus for all SNe in Suzuki+2012', fontsize=18)\n",
    "\n",
    "legend = ax.legend(loc='upper left',fontsize=18)\n"
   ]
  },
  {
   "cell_type": "markdown",
   "metadata": {},
   "source": [
    "# Part B\n",
    "\n",
    "For each SNe in the data file compute: \n",
    "\n",
    "1) the luminosity distance, using from the distance modulus;\n",
    "\n",
    "and\n",
    "\n",
    "2) the recessional velocity in km/second, computed from the redshift using the relativistic doppler shift at low speeds, where v << c. \n",
    "\n",
    "$1+z = \\frac{\\lambda_{\\rm obs}}{\\lambda_{\\rm e}}$\n",
    "\n",
    "$z = \\frac{\\Delta \\lambda}{\\lambda_{\\rm e}} = \\frac{v}{c}$"
   ]
  },
  {
   "cell_type": "code",
   "execution_count": null,
   "metadata": {},
   "outputs": [],
   "source": [
    "#1) Distance\n",
    "# Use Distance Modulus to determine the luminosity distance to each supernova\n"
   ]
  },
  {
   "cell_type": "code",
   "execution_count": null,
   "metadata": {},
   "outputs": [],
   "source": [
    "#2) Velocity\n",
    "# Determine the recessional speed based on the redshift"
   ]
  },
  {
   "cell_type": "markdown",
   "metadata": {},
   "source": [
    "# Part C\n",
    "\n",
    "Plot distance versus velocity just for the \"nearby\" supernovae, those within 200 Mpc of Earth. We can select the set of indices of the nearby supernovae using the `numpy.where` function"
   ]
  },
  {
   "cell_type": "code",
   "execution_count": null,
   "metadata": {},
   "outputs": [],
   "source": [
    "# Create an index for the nearby supernovae\n"
   ]
  },
  {
   "cell_type": "code",
   "execution_count": null,
   "metadata": {},
   "outputs": [],
   "source": [
    "# store the number of nearby supernovae\n"
   ]
  },
  {
   "cell_type": "code",
   "execution_count": null,
   "metadata": {},
   "outputs": [],
   "source": [
    "# Plot the Luminosity Distance vs. Recessional Speed for all nearby Supernovae\n",
    "\n",
    "fig = plt.figure(figsize=(10,5))\n",
    "ax = plt.subplot(111)\n",
    "\n",
    "# plot nearby SNe\n",
    "\n",
    "ax.set_xlabel('Recessional velocity [km/s]', fontsize=18)\n",
    "ax.set_ylabel('Luminosity Distance [Mpc]', fontsize=18)\n",
    "ax.set_title(f\"Luminosity Distance vs Recessional Velocity for {nNear} SNe within 200 Mpc\",\n",
    "             fontsize=15)\n",
    "\n",
    "legend = ax.legend(loc='upper left',fontsize=18)\n"
   ]
  },
  {
   "cell_type": "markdown",
   "metadata": {},
   "source": [
    "# Part D\n",
    "\n",
    "Add a linear model atop the data, using Hubble's Law\n",
    "\n",
    " V = Hubble Parameter today * Comoving Radial Distance = H$_o$ D$_c$"
   ]
  },
  {
   "cell_type": "code",
   "execution_count": null,
   "metadata": {},
   "outputs": [],
   "source": [
    "# Create a linear model\n",
    "\n",
    "\n"
   ]
  },
  {
   "cell_type": "code",
   "execution_count": null,
   "metadata": {},
   "outputs": [],
   "source": [
    "# Add the linear model to the figure of the nearest SNe\n"
   ]
  },
  {
   "cell_type": "markdown",
   "metadata": {},
   "source": [
    "# Part E\n",
    "Let's now try plotting the whole dataset, which extends to distances far beyond what Hubble could have measured in his day"
   ]
  },
  {
   "cell_type": "code",
   "execution_count": null,
   "metadata": {},
   "outputs": [],
   "source": [
    "# Plot the whole dataset, not just the nearby SNe\n",
    "\n"
   ]
  },
  {
   "cell_type": "markdown",
   "metadata": {},
   "source": [
    "The distant supernovae are moving more slowly than a constant Ho would predict...\n",
    "\n",
    " note that you could import `LambdaCDM` object from `astropy.cosmology` (CDM is \"cold dark matter\")\n",
    "\n",
    "`from astropy.cosmology import LambdaCDM`\n",
    "\n",
    "But instead we're going to use our own code ! "
   ]
  },
  {
   "cell_type": "markdown",
   "metadata": {},
   "source": [
    "# Part F\n",
    "\n",
    "Instead of assuming a linear model, let's use our code to compute a model for the luminosity distance to objects moving with the Hubble flow. "
   ]
  },
  {
   "cell_type": "code",
   "execution_count": null,
   "metadata": {},
   "outputs": [],
   "source": [
    "# define an array of redshifts to compute the luminosity distance\n"
   ]
  },
  {
   "cell_type": "code",
   "execution_count": null,
   "metadata": {},
   "outputs": [],
   "source": [
    "# Compute the corresponding recessional velocities using the doppler shift\n",
    "# z = v/c\n"
   ]
  },
  {
   "cell_type": "code",
   "execution_count": null,
   "metadata": {},
   "outputs": [],
   "source": [
    "# Generate models for the luminosity distance as a function of z \n",
    "# for Benchmark and Einstein De Sitter Cosmologies. \n",
    "# Use a list comprehension\n"
   ]
  },
  {
   "cell_type": "code",
   "execution_count": null,
   "metadata": {},
   "outputs": [],
   "source": [
    "# Plot the new models on top of the data\n",
    "\n",
    "\n"
   ]
  },
  {
   "cell_type": "markdown",
   "metadata": {},
   "source": [
    "To determine the best fit, you would test different values of Omega_M and Omega_L and generate probability contours\n",
    "\n",
    "![title](scp2.1.png)\n",
    "\n"
   ]
  },
  {
   "cell_type": "code",
   "execution_count": null,
   "metadata": {},
   "outputs": [],
   "source": []
  }
 ],
 "metadata": {
  "kernelspec": {
   "display_name": "Python 3 (ipykernel)",
   "language": "python",
   "name": "python3"
  },
  "language_info": {
   "codemirror_mode": {
    "name": "ipython",
    "version": 3
   },
   "file_extension": ".py",
   "mimetype": "text/x-python",
   "name": "python",
   "nbconvert_exporter": "python",
   "pygments_lexer": "ipython3",
   "version": "3.9.13"
  }
 },
 "nbformat": 4,
 "nbformat_minor": 2
}
