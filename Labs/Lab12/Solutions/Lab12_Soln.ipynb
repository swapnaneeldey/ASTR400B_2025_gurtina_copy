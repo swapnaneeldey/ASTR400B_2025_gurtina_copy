{
 "cells": [
  {
   "cell_type": "markdown",
   "metadata": {
    "collapsed": true
   },
   "source": [
    "# In Class Lab 12 Solution\n",
    "# Cosmological Tools\n",
    "\n",
    "In this lab we will build on the Class called `CosmologicalTools` that we developed as part of Lab 11. \n",
    "\n",
    "For Lab 12, we will create functions that compute: Look Back Time, Comoving Distance, Luminosity Distance and Angular Diameter Distance. \n"
   ]
  },
  {
   "cell_type": "code",
   "execution_count": 4,
   "metadata": {},
   "outputs": [],
   "source": [
    "# import modules\n",
    "import numpy as np\n",
    "import astropy.units as u\n",
    "\n",
    "# import plotting modules\n",
    "import matplotlib.pyplot as plt\n",
    "import matplotlib\n",
    "\n",
    "#################\n",
    "# Lab 12 : \n",
    "# tool for numerical integration from SciPy  \n",
    "from scipy.integrate import simps\n",
    "# If you have an updated version of SciPy the \n",
    "# relavent tool is \"simpson\" not \"simps\"\n",
    "\n",
    "# Import the constant for the speed of light\n",
    "from astropy.constants import c\n",
    "\n"
   ]
  },
  {
   "cell_type": "markdown",
   "metadata": {},
   "source": [
    "\n",
    "# Part 1 :  Look Back Time\n",
    "\n",
    "A) \n",
    "\n",
    "Complete the function ``LookBackTime`` that takes as inputs the desired redshift and returns the corresponding time (Gyr ago). To do this, we need to Numerically integrate :\n",
    "\n",
    "\n",
    "$ t_L = \\int_0^z \\frac{dz'}{(1+z') H(z')}$\n",
    "\n",
    "\n",
    "The scipy function ``simps`` is really useful for numerical integration. At the start of the program I have \n",
    "imported this module:  ``from scipy.integrate import simps`` \n",
    "\n",
    "\n",
    "To use it, I have already defined an array with redshifts, spaced in intervals of 0.001\n",
    "    \n",
    "``zrange = np.arange(zo, ze, 1e-3)``\n",
    "\n",
    "Where zo is the redshift of the observer (it's us, so zo= 0).  And ze is the redshift of the emitter. \n",
    "\n",
    "Next define the integrand and utilize simps to integrate:\n",
    "\n",
    "``simps(y(x), x)``\n",
    "\n",
    "\n",
    "B) \n",
    "\n",
    "- How many Gyr ago was z = 1 in the benchmark cosmology? \n",
    "- What is the age of the universe in the benchmark cosmology?  Use a large z value to estimate this. \n",
    "- What is the age in the Einstein De Sitter cosmology (where $\\Omega_m=1$ and all other density parameters are 0) ? \n",
    "- Which cosmology results in the youngest age for the universe? \n",
    "\n",
    "\n",
    "C) \n",
    "\n",
    "Complete the plot template for Look Back Time as a function of 1+ z for both the benchmark and Einstein De Sitter cosmologies. You will need loop over the ``LookBackTime`` function  from z = (0, 50) using a list comprehension. Follow the instructions in the template. \n"
   ]
  },
  {
   "cell_type": "markdown",
   "metadata": {},
   "source": [
    "# Part 2:  Comoving and Proper Distance\n",
    "\n",
    "\n",
    "A)\n",
    "\n",
    "Complete the Method  ``ComovingDistance`` that takes as input: the redshift when the photon was observed and the redshift when the photon was emitted.  The function returns the Comoving Radial Distance from an observer at z=z_o, $D_C(z)$, by numerically integrating the following: \n",
    "\n",
    "$D_C(z) = c \\int_{z_0}^{z_e} \\frac{dz'}{H(z)}$\n",
    "\n",
    "Where $c$ is the speed of light.  If $z_0$=0, $D_C(0)$ is equivalent to the proper distance to that object today (line of sight distance).\n",
    " \n",
    " D) \n",
    "\n",
    "Complete the Method ``ProperDistance`` that takes as input the the redshift when the photon was observed and emitted and returns the Proper Distance at that observed redshift.  I.e. it computes:\n",
    "\n",
    "$\\frac{D_C(z)}{(1+z_0)}$  \n",
    "\n",
    "If $z_0$=0 this function returns the same value as the `ComovingDistance` function.\n",
    "\n",
    " \n",
    " \n",
    "C)\n",
    "- What is the size of the observable universe in the Benchmark cosmology today?  (use a large redshift) \n",
    "- What is the size in the Einstein De Sitter cosmology?  Which is smaller? \n",
    "\n",
    "\n",
    "D)\n",
    "\n",
    "What is the radial distance between two galaxies that are closely located on the sky, where one is at z=0.01 and the second galaxy is at z =0.05 ?  Compute this for today and also for an observer at z=0.01\n",
    "\n",
    "\n",
    "E) \n",
    "\n",
    "What is the size of the observable universe at z=2 ? \n",
    "\n",
    "F) \n",
    "\n",
    "Plot the Horizon Distance as a Function of Redshift out to z=10 for the BenchMark and Einstein DeSitter Cosmology\n"
   ]
  },
  {
   "cell_type": "markdown",
   "metadata": {},
   "source": [
    "# Part 3:  Luminosity Distance\n",
    "\n",
    "Determining distances to standard candles\n",
    "\n",
    "\n",
    "A)\n",
    "\n",
    "Complete the function ``LuminosityDistance`` that takes as input the emitted redshift and returns\n",
    "\n",
    "$D_L = D_C(1+z)$\n",
    "\n",
    "B)\n",
    "\n",
    "Consider a Type 1A  Supernova (absolute magnitude M = -19.3 $\\pm$ 0.3) that goes off at an unknown redshift.  We measure an apparent magnitude m = 25.1. \n",
    "\n",
    "- What is the inferred Luminosity Distance ($D_{LSne}$) ? \n",
    "\n",
    "\n",
    "$m-M = 5 Log(D_{LSne}/{\\rm Mpc})  + 25  \\qquad  D_{LSne} =  10^{(m - M - 25)/5}$\n",
    "\n",
    "\n",
    "-  Using the function ``LuminosityDistance``, what redshift most closely returns the inferred $D_{LSne}$?\n",
    "\n",
    "-  Using the function ``ProperDistance``, what is the proper distance from an observer on earth to the supernova? \n",
    "(note you could equivalently useing the function ``ComovingDistance``\n"
   ]
  },
  {
   "cell_type": "markdown",
   "metadata": {},
   "source": [
    "# Part 4 : Angular Diameter Distance\n",
    "\n",
    "Translating angular separations into projected distances. \n",
    "\n",
    "A)\n",
    "\n",
    "Complete the function ``AngularDiameterDistance``, which takes as input the desired redshift and returns\n",
    "\n",
    "$D_A = D_C/(1+z)$. \n",
    "\n",
    "B)\n",
    "\n",
    "Complete the function ``Size``, which takes as input the desired redshift and angle (assumed to be in arcsec) that is the size of an object, or size of the angle between two galaxies, and returns the true projected separation. \n",
    "\n",
    "\n",
    "$\\theta = \\frac{D_{\\rm sep}}{D_A}$\n",
    "\n",
    "\n",
    "C) \n",
    "\n",
    "Consider two galaxies that are located at an average redshift of 1.0 and separated by an angle of 1''.  What is their physical separation in kpc ?\n",
    "\n"
   ]
  },
  {
   "cell_type": "code",
   "execution_count": 5,
   "metadata": {},
   "outputs": [],
   "source": [
    "class CosmologicalTools:\n",
    "    # Define a class that provides functions to compute \n",
    "    # various cosmological quantities\n",
    "    # for a given cosmology  \n",
    "        \n",
    "    def __init__(self, OmegaM0, OmegaR0, OmegaL0, h):\n",
    "        \"\"\" initialize the instance of the class - for any given Cosmology\n",
    "        \n",
    "        PARAMETERS\n",
    "        ----------\n",
    "        OmegaM0: `float`\n",
    "            the Matter density parameter at z=0\n",
    "        \n",
    "        OmegaR0: `float` \n",
    "            the radiation density parameter at z=0\n",
    "        \n",
    "        OmegaL0: `float`\n",
    "            The dark energy density parameter at z=0\n",
    "            \n",
    "        h: `float` \n",
    "            the Normalization for the hubble parameter at z=0\n",
    "        \"\"\"\n",
    "        \n",
    "        # initialize the cosmology at z=0\n",
    "        self.OmegaM0 = OmegaM0    ### Matter Density Parameter\n",
    "        self.OmegaR0 = OmegaR0    ### Radiation Density Parameter\n",
    "        self.OmegaL0 = OmegaL0    ### Dark Energy Density Parameter\n",
    "        #### Curvature Density Parameter\n",
    "        self.OmegaK0 = 1 - (OmegaM0 + OmegaR0 + OmegaL0)    \n",
    "    \n",
    "        self.h = h   # Normalization of Hubble Parameter   \n",
    "        #  Hubble Constant at z=0  100 h km/s/Mpc\n",
    "        self.Ho = self.h*100*u.km/u.s/u.Mpc \n",
    "    \n",
    "    \n",
    "    # Question 1 A)\n",
    "    def HubbleParameter(self, z):\n",
    "        \"\"\"  Method that defines the Hubble Parameter \n",
    "            as a function of redshift\n",
    "            H(z)^2 = H_o^2 [ OmegaM0(1+z)^3 + OmegaR0(1+z)^4 + \n",
    "            OmegaLambda0 + OmegaK0(1+z)^2] \n",
    "        \n",
    "        PARAMETERS\n",
    "        ----------\n",
    "            z: `float`\n",
    "                redshift \n",
    "            \n",
    "        RETURNS\n",
    "        -------\n",
    "            Hz: `float`\n",
    "                Hubble Parameter as a function of z, in units of km/s/Mpc\n",
    "        \"\"\"\n",
    "        \n",
    "        # FILL THIS IN \n",
    "        OmegaM = self.OmegaM0*(1+z)**3 # OmegaM \n",
    "        OmegaR = self.OmegaR0*(1+z)**4\n",
    "        OmegaL = self.OmegaL0\n",
    "        OmegaK = self.OmegaK0*(1+z)**2\n",
    "        \n",
    "        Hz = self.Ho*np.sqrt(OmegaM+OmegaR+OmegaL+OmegaK)\n",
    "        \n",
    "        return  Hz\n",
    "    \n",
    "    \n",
    "    \n",
    "    # Question 2 A)\n",
    "    def OmegaM_Z(self,z):\n",
    "        \"\"\" Method that defines the matter density parameter\n",
    "        as a function of redshift\n",
    "        OmegaM0*(1+z)**3*(Ho/Hz)^2\n",
    "        \n",
    "        PARAMETERS\n",
    "        ----------\n",
    "        z  `float or np.ndarray`\n",
    "            Redshift\n",
    "        \n",
    "        RETURNS\n",
    "        -------\n",
    "        OmegaM: `float or np.ndarray`\n",
    "            Matter Density Parameter at the given redshift.\n",
    "        \"\"\"\n",
    "        \n",
    "        OmegaM = self.OmegaM0*(1+z)**3*self.Ho**2/self.HubbleParameter(z)**2\n",
    "        \n",
    "        return OmegaM\n",
    "    \n",
    "    def OmegaR_Z(self,z):\n",
    "        \"\"\" Method that defines the radiation density \n",
    "        parameter as a function of redshift\n",
    "         OmegaR0*(1+z)**4*(Ho/Hz)^2\n",
    "         \n",
    "        PARAMETERS\n",
    "        ----------\n",
    "        z  `float or np.ndarray`\n",
    "            Redshift\n",
    "        \n",
    "        RETURNS\n",
    "        -------\n",
    "        OmegaR: `float or np.ndarray`\n",
    "            Radiation Density Parameter at the given redshift.\n",
    "        \"\"\"\n",
    "        \n",
    "        OmegaR = self.OmegaR0*(1+z)**4*self.Ho**2/self.HubbleParameter(z)**2\n",
    "        \n",
    "        return OmegaR\n",
    "    \n",
    "    \n",
    "    def OmegaL_Z(self,z):\n",
    "        \"\"\" Method that defines the dark energy \n",
    "        density parameter as a function of redshift\n",
    "        OmegaL0*(Ho/Hz)^2\n",
    "        \n",
    "        PARAMETERS\n",
    "        ----------\n",
    "        z  `float or np.ndarray`\n",
    "            Redshift\n",
    "        \n",
    "        RETURNS\n",
    "        -------\n",
    "        OmegaL: `float or np.ndarray`\n",
    "            Dark Energy Density Parameter at the given redshift.\n",
    "        \"\"\"\n",
    "            \n",
    "        OmegaL = self.OmegaL0*self.Ho**2/self.HubbleParameter(z)**2\n",
    "        \n",
    "        return OmegaL\n",
    "    \n",
    "    \n",
    "    \n",
    "    ###########################\n",
    "    # Lab 12 Starts Here\n",
    "    ###########################\n",
    "    \n",
    "    \n",
    "    # Question 1 A) \n",
    "    \n",
    "    def LookBackTime(self, ze):\n",
    "        \"\"\" Method that computes the Look Back Time at a given redshift\n",
    "         i.e. the difference in time from when a \n",
    "         photon was emitted to when it is observed at present day.\n",
    "         \n",
    "         Integrand: 1/H(z)/(1+z)\n",
    "         \n",
    "        PARAMETERS\n",
    "        ----------\n",
    "        ze : `float`\n",
    "            Redshift emitted (ze). This cannot be an array\n",
    "            \n",
    "        RETURNS\n",
    "        -------\n",
    "        LBtime: `float`\n",
    "            Look Back Time in units of Gyr ago (relative to present day)\n",
    "        \"\"\"\n",
    "        \n",
    "        # Observed redshift - today\n",
    "        zo = 0\n",
    "    \n",
    "        # define an array with redshifts, spaced in intervals \n",
    "        #of 0.001 from zo to ze\n",
    "        zrange = np.arange(zo, ze, 1e-3)\n",
    "        \n",
    "        \n",
    "        # Integrand\n",
    "        # y = (1/H(zrange)).to(GYR)  /  (1+zrange) \n",
    "        # --> this conversion also takes care of the km/Mpc issue\n",
    "        # But need to correct units of 1/H to be Gyr rather than seconds  \n",
    "        # use the astropy.units functionality .to(units)\n",
    "        # FILL THIS IN \n",
    "        y = (1.0/self.HubbleParameter(zrange)).to(u.Gyr)/(1+zrange)  \n",
    "        \n",
    "       \n",
    "        # Integrate y numerically over zrange and return in units of Gyr\n",
    "        # FILL THIS IN \n",
    "        # for whatever reason simps gets rid of the units \n",
    "        #so you have to add them back. \n",
    "        LBtime = simps(y,zrange)*u.Gyr\n",
    "\n",
    "        return LBtime\n",
    "    \n",
    "    \n",
    "    \n",
    "    # Question 2 A) \n",
    "    \n",
    "    def ComovingDistance(self, zo, ze):\n",
    "        \"\"\" Method that computes the Comoving Radial Distance \n",
    "        to an object at a given redshift.\n",
    "        i.e, Distance to a galaxy that is moving with the Hubble \n",
    "        Flow (expanding universe) at a given redshift\n",
    "            Dc = c*Int_z0^ze 1/H(z)\n",
    "\n",
    "        PARAMETERS\n",
    "        ----------\n",
    "        zo: `float`\n",
    "            Redshift of the observer\n",
    "            \n",
    "        ze: `float`\n",
    "            Redshift of the object emitting the photon\n",
    "            \n",
    "        RETURNS\n",
    "        -------\n",
    "        DC: `float`\n",
    "            Comoving Radial Distance (Mpc)\n",
    "        \"\"\"\n",
    "        \n",
    "        # define an array with redshifts, spaced  in intervals of 0.001\n",
    "        # Note that if you want redshifts smaller \n",
    "        #than 0.001 you'll need to refine this\n",
    "        zrange = np.arange(zo, ze, 1e-3)\n",
    "    \n",
    "        \n",
    "        # Integrand\n",
    "        # 1/H(zrange)*speed of light\n",
    "        # Speed of light is loaded in modules from astropy, \n",
    "        # but in units of m/s --> need in km/s\n",
    "        # FILL THIS IN\n",
    "        # imported speed of light\n",
    "        y = c.to(u.km/u.s)*(1.0/self.HubbleParameter(zrange))\n",
    "    \n",
    "        \n",
    "        # Integrate y numerically over zrange and return in units of Mpc\n",
    "        # FILL THIS IN \n",
    "        DC = simps(y,zrange)*u.Mpc\n",
    "        \n",
    "        return DC\n",
    "    \n",
    "    \n",
    "    # Question 2 D) \n",
    "    \n",
    "    def ProperDistance(self, zo, ze):\n",
    "        \"\"\" Method that returns the Proper Distance\n",
    "             to an object at some redshift (ze)\n",
    "            to an observer a given redshift \n",
    "            (the distance measured by a ruler). \n",
    "            This is the Horizon Distance.\n",
    "             R(tobs)*DC = DC/(1+zobs)\n",
    "            \n",
    "        PARAMETERS\n",
    "        ---------\n",
    "             \n",
    "        zo: `float`\n",
    "            Redshift of the observer\n",
    "            \n",
    "        ze: `float`\n",
    "            Redshift of the object emitting the photon\n",
    "            \n",
    "        RETURNS\n",
    "        -------\n",
    "        DH: `float`\n",
    "            Proper Distance (Mpc)\n",
    "        \"\"\"\n",
    "    \n",
    "        # Comoving Distance[ independent of time] \n",
    "        #x the scale factor at the time of observation.\n",
    "        DH = self.ComovingDistance(zo,ze)/(1+zo) \n",
    "        # if zo=0 then this is just the comoving distance\n",
    "        \n",
    "        return DH\n",
    "\n",
    " \n",
    "    # Question 3 A)\n",
    "    \n",
    "    def LuminosityDistance(self, ze): \n",
    "        \"\"\" Method that computes the Luminosity Distance \n",
    "        to an object at some redshift (ze)\n",
    "               DL = DC*(1+z_emitted)\n",
    "            \n",
    "        PARAMETERS\n",
    "        --------- \n",
    "        ze: `float`\n",
    "            Redshift of the object emitting the photons\n",
    "            \n",
    "        RETURNS\n",
    "        -------\n",
    "        DL: `float`\n",
    "            Luminosity Distance (Mpc)\n",
    "        \"\"\"\n",
    "    \n",
    "        zo = 0 # This is a quantity computed by an observer at z=0\n",
    "        \n",
    "        DL = self.ComovingDistance(zo,ze)*(1+ze)\n",
    "        \n",
    "        return DL\n",
    "    \n",
    "\n",
    "    # Question 4 A)\n",
    "    \n",
    "    def AngularDiameterDistance(self, ze): \n",
    "        \"\"\" Method that computes the Angular Diameter Distance\n",
    "        to an object at some redshift (ze)\n",
    "               DA = DC/(1+z_emitted)\n",
    "            DA is the distance to the source, such that it \n",
    "            subtends the same angle \n",
    "            it would have in Euclidean Space\n",
    "\n",
    "            \n",
    "        PARAMETERS\n",
    "        --------- \n",
    "        ze: `float`\n",
    "            Redshift of the object emitting the photons\n",
    "            \n",
    "        RETURNS\n",
    "        -------\n",
    "        DA: `float`\n",
    "            Angular Diameter Distance (Mpc)\n",
    "        \"\"\"\n",
    "    \n",
    "        # this is an observable so\n",
    "        zo = 0\n",
    "        \n",
    "        # # FILL THIS IN\n",
    "        DA = self.ComovingDistance(zo,ze)/(1+ze)  \n",
    "    \n",
    "        return DA   \n",
    "    \n",
    "    \n",
    "    # Question 4 B) \n",
    "    \n",
    "    def Size(self, ze, angle):\n",
    "        \"\"\" Method to compute the physical distance \n",
    "            corresponding to a given \n",
    "            angular separation at a given redshift\n",
    "            S = DA*angle\n",
    "        \n",
    "        PARAMETERS\n",
    "        --------- \n",
    "        ze: `float`\n",
    "            Redshift of the object emitting the photons\n",
    "            \n",
    "        angle: `float`\n",
    "            Angular separation or size (arcsec)\n",
    "            \n",
    "        RETURNS\n",
    "        -------\n",
    "        size: `float`\n",
    "            Physical Size of the Object or the Separation \n",
    "            between objects (kpc)\n",
    "        \"\"\"\n",
    "        \n",
    "        # convert angle from arcsec to radians\n",
    "        #    FILL THIS IN\n",
    "        angleRad = (angle*u.arcsec).to(u.rad)\n",
    "    \n",
    "         # FILL THIS IN\n",
    "        #   DA*angleRad\n",
    "        size = self.AngularDiameterDistance(ze).to(u.kpc)*angleRad.value\n",
    "        # recall angular diameter distance is in Mpc\n",
    "        \n",
    "        return size\n",
    "    \n"
   ]
  },
  {
   "cell_type": "code",
   "execution_count": 6,
   "metadata": {},
   "outputs": [],
   "source": [
    "# Define the benchmark cosmology at z =0\n",
    "# Planck 2016 results. XIII. Cosmological parameters   \n",
    "# Planck Collaboration+2016 A&A 594 13  Table 4, column 2 \n",
    "\n",
    "OmegaM0_planck = 0.308   # Matter Density Parameter\n",
    "OmegaR0_planck = 8.24e-5  # Radiation Density Parameter\n",
    "OmegaL0_planck = 0.692  # Dark Energy Density Parameter\n",
    "h_planck = 0.6781   # Hubble Constant  100 h km/s/Mpc\n",
    "  "
   ]
  },
  {
   "cell_type": "code",
   "execution_count": 7,
   "metadata": {},
   "outputs": [],
   "source": [
    "# Define the Einstein-DeSitter cosmology (Matter Dominated)\n",
    "OmegaMD = 1\n",
    "OmegaRD = 0\n",
    "OmegaLD = 0\n",
    "# h is the same = h_planck\n",
    "\n"
   ]
  },
  {
   "cell_type": "code",
   "execution_count": 8,
   "metadata": {},
   "outputs": [],
   "source": [
    "# Define here an instance of the Class Cosmological Tools \n",
    "#that follows the Benchmark Cosmology\n",
    "\n",
    "BenchMark = CosmologicalTools(OmegaM0_planck, OmegaR0_planck, OmegaL0_planck, h_planck)\n"
   ]
  },
  {
   "cell_type": "code",
   "execution_count": 9,
   "metadata": {},
   "outputs": [],
   "source": [
    "# Define a New Instance of the Class with Einstein De Sitter Cosmology \n",
    "\n",
    "DeSitter = CosmologicalTools(OmegaMD, OmegaRD, OmegaLD, h_planck)\n"
   ]
  },
  {
   "cell_type": "markdown",
   "metadata": {},
   "source": [
    "##  Question 1 B) "
   ]
  },
  {
   "cell_type": "code",
   "execution_count": 10,
   "metadata": {},
   "outputs": [],
   "source": [
    "# Question 1 B) \n",
    "\n",
    "# How many Gyr ago was z=1 in the Benchmark cosmology?\n"
   ]
  },
  {
   "cell_type": "code",
   "execution_count": 11,
   "metadata": {},
   "outputs": [
    {
     "data": {
      "text/latex": [
       "$7.926721 \\; \\mathrm{Gyr}$"
      ],
      "text/plain": [
       "<Quantity 7.92672101 Gyr>"
      ]
     },
     "execution_count": 11,
     "metadata": {},
     "output_type": "execute_result"
    }
   ],
   "source": [
    "BenchMark.LookBackTime(1)"
   ]
  },
  {
   "cell_type": "code",
   "execution_count": 12,
   "metadata": {},
   "outputs": [
    {
     "data": {
      "text/latex": [
       "$10.5082 \\; \\mathrm{Gyr}$"
      ],
      "text/plain": [
       "<Quantity 10.50819984 Gyr>"
      ]
     },
     "execution_count": 12,
     "metadata": {},
     "output_type": "execute_result"
    }
   ],
   "source": [
    "BenchMark.LookBackTime(2)"
   ]
  },
  {
   "cell_type": "code",
   "execution_count": 13,
   "metadata": {},
   "outputs": [
    {
     "data": {
      "text/latex": [
       "$13.794599 \\; \\mathrm{Gyr}$"
      ],
      "text/plain": [
       "<Quantity 13.79459933 Gyr>"
      ]
     },
     "execution_count": 13,
     "metadata": {},
     "output_type": "execute_result"
    }
   ],
   "source": [
    "# Question 1 B) \n",
    "\n",
    "# What is the Age of the Universe in the Benchmark Cosmology  \n",
    "# (put in a large z)\n",
    "BenchMark.LookBackTime(1000)"
   ]
  },
  {
   "cell_type": "code",
   "execution_count": 14,
   "metadata": {},
   "outputs": [
    {
     "data": {
      "text/latex": [
       "$9.6127547 \\; \\mathrm{Gyr}$"
      ],
      "text/plain": [
       "<Quantity 9.61275474 Gyr>"
      ]
     },
     "execution_count": 14,
     "metadata": {},
     "output_type": "execute_result"
    }
   ],
   "source": [
    "# What is the Age of the Universe in the Einstein De Sitter Cosmology\n",
    "DeSitter.LookBackTime(1000)"
   ]
  },
  {
   "cell_type": "markdown",
   "metadata": {},
   "source": [
    "####  Which cosmology results in a younger universe?\n",
    "\n",
    "Einstein-DeSitter (Matter Dominated) Universe would be younger today\n"
   ]
  },
  {
   "cell_type": "code",
   "execution_count": 15,
   "metadata": {},
   "outputs": [
    {
     "data": {
      "text/latex": [
       "$14.419587 \\; \\mathrm{Gyr}$"
      ],
      "text/plain": [
       "<Quantity 14.4195874 Gyr>"
      ]
     },
     "execution_count": 15,
     "metadata": {},
     "output_type": "execute_result"
    }
   ],
   "source": [
    "# Inverse of the Hubble Parameter today is roughly \n",
    "# the age of the universe. but not exactly.\n",
    "(1/BenchMark.HubbleParameter(0).to(u.km/u.km/u.Gyr))"
   ]
  },
  {
   "cell_type": "markdown",
   "metadata": {},
   "source": [
    "## Question 1 C) \n",
    "\n",
    "List Comprehension Syntax: ``[ expression for item in list if conditional ]``\n",
    "This is equivalent to:\n",
    "\n",
    "``for item in list:``\n",
    "\n",
    "$\\indent$``     if conditional:``\n",
    "    \n",
    "$\\indent$ $\\indent$``        expression``\n"
   ]
  },
  {
   "cell_type": "code",
   "execution_count": 16,
   "metadata": {},
   "outputs": [],
   "source": [
    "# Question 1 C)   Plotting Look Back Time\n",
    "\n",
    "# First define an array of redshift for the X axis\n",
    "# Define an array of redshift to some max redshift\n",
    "zmax = 50\n",
    "zmin = 0.001\n",
    "zrange = np.arange(zmin, zmax, 0.01)"
   ]
  },
  {
   "cell_type": "code",
   "execution_count": 17,
   "metadata": {},
   "outputs": [],
   "source": [
    "# Create a list comprehension to compute an array of\n",
    "# Look Back Time for each element in zrange\n",
    "# NOTE THIS GENERATES A LIST NOT AN ARRAY\n",
    "# Need to do it this way because of the numerical integration \n",
    "# - not feeding the method an array\n",
    "TimeBenchMark = [BenchMark.LookBackTime(i).value for i in zrange]\n"
   ]
  },
  {
   "cell_type": "code",
   "execution_count": 18,
   "metadata": {},
   "outputs": [],
   "source": [
    "TimeDeSitter = [DeSitter.LookBackTime(i).value for i in zrange]"
   ]
  },
  {
   "cell_type": "code",
   "execution_count": 41,
   "metadata": {},
   "outputs": [
    {
     "data": {
      "image/png": "[encoded data removed]",
      "text/plain": [
       "<Figure size 1000x1000 with 1 Axes>"
      ]
     },
     "metadata": {},
     "output_type": "display_data"
    }
   ],
   "source": [
    "# Plot the Look Back Time as a Function of Redshift out to z=10\n",
    "################################################################\n",
    "\n",
    "fig = plt.figure(figsize=(10,10))\n",
    "ax = plt.subplot(111)\n",
    "\n",
    "\n",
    "# Look Back Time Benchmark\n",
    "# FILL THIS IN\n",
    "plt.semilogx(zrange+1, TimeBenchMark, color='blue', \n",
    "             linewidth=5, label='Benchmark')\n",
    "\n",
    "\n",
    "# Look Back Time Einstein De Sitter\n",
    "# FILL THIS IN\n",
    "plt.semilogx(zrange+1, TimeDeSitter, color='red', \n",
    "             linewidth=5, label='DeSitter')\n",
    "\n",
    "\n",
    "# Add axis labels\n",
    "plt.xlabel('1+z', fontsize=22)\n",
    "plt.ylabel('Look Back Time (Gyr Ago)', fontsize=22)\n",
    "\n",
    "#adjust tick label font size\n",
    "label_size = 22\n",
    "matplotlib.rcParams['xtick.labelsize'] = label_size \n",
    "matplotlib.rcParams['ytick.labelsize'] = label_size\n",
    "\n",
    "legend = ax.legend(loc='upper left',fontsize=20)\n",
    "\n",
    "# Save to a file\n",
    "plt.savefig('Lab12_LookBackTime.png')\n",
    "\n"
   ]
  },
  {
   "cell_type": "markdown",
   "metadata": {},
   "source": [
    "## Question 2 C)"
   ]
  },
  {
   "cell_type": "code",
   "execution_count": 42,
   "metadata": {},
   "outputs": [
    {
     "name": "stdout",
     "output_type": "stream",
     "text": [
      "13893.0 Mpc\n"
     ]
    }
   ],
   "source": [
    "# Question 2 B\n",
    "\n",
    "# What is the size of the presently observable universe \n",
    "# in the Benchmark cosmology ? (pick a large z)\n",
    "# this is the size assuming the present day scale factor \n",
    "\n",
    "print(np.round(BenchMark.ComovingDistance(0,1000)))"
   ]
  },
  {
   "cell_type": "code",
   "execution_count": 43,
   "metadata": {},
   "outputs": [
    {
     "name": "stdout",
     "output_type": "stream",
     "text": [
      "13893.0 Mpc\n"
     ]
    }
   ],
   "source": [
    "# Double Check that the size of the Comoving \n",
    "#Distance and Proper Distance are the same\n",
    "# since the observer is at z=0 \n",
    "\n",
    "print(np.round(BenchMark.ProperDistance(0,1000)))"
   ]
  },
  {
   "cell_type": "code",
   "execution_count": 44,
   "metadata": {},
   "outputs": [
    {
     "name": "stdout",
     "output_type": "stream",
     "text": [
      "8563.0 Mpc\n"
     ]
    }
   ],
   "source": [
    "# What is the size of the presently observable \n",
    "# universe in the Einstein De Sitter cosmology? (pick a large z)\n",
    "print(np.round(DeSitter.ComovingDistance(0,1000)))"
   ]
  },
  {
   "cell_type": "code",
   "execution_count": 23,
   "metadata": {},
   "outputs": [],
   "source": [
    "# Which is larger? \n",
    "\n",
    "# BenchMark is larger, and accordingly the universe \n",
    "#is older today (1 B)"
   ]
  },
  {
   "cell_type": "markdown",
   "metadata": {},
   "source": [
    "## Question 2 D)"
   ]
  },
  {
   "cell_type": "code",
   "execution_count": 24,
   "metadata": {},
   "outputs": [],
   "source": [
    "# Consider two closely located \n",
    "# galaxies on the sky, where one galaxy\n",
    "# is  at z=0.01 and the second galaxy is at z =0.05\n"
   ]
  },
  {
   "cell_type": "code",
   "execution_count": 25,
   "metadata": {},
   "outputs": [],
   "source": [
    "z1 = 0.01\n",
    "z2 = 0.05"
   ]
  },
  {
   "cell_type": "code",
   "execution_count": 45,
   "metadata": {},
   "outputs": [
    {
     "name": "stdout",
     "output_type": "stream",
     "text": [
      "174.0 Mpc\n"
     ]
    }
   ],
   "source": [
    "# What is Radial Distance between these\n",
    "#galaxies today (z=0)? \n",
    "# This is equivalent to the Comoving Radial Distance or \n",
    "#Proper Distance between the galaxies\n",
    "\n",
    "Dist_z1 = BenchMark.ComovingDistance(0,z1)\n",
    "Dist_z2 = BenchMark.ComovingDistance(0,z2)\n",
    "\n",
    "# Find the difference\n",
    "\n",
    "Dist = Dist_z2 - Dist_z1\n",
    "print(np.round(Dist))"
   ]
  },
  {
   "cell_type": "code",
   "execution_count": 27,
   "metadata": {},
   "outputs": [
    {
     "name": "stdout",
     "output_type": "stream",
     "text": [
      "168.3646839811862 Mpc\n"
     ]
    }
   ],
   "source": [
    "# What is the Proper Distance between these\n",
    "#two galaxies as measured by galaxy 1 (at z=0.01)?\n",
    "\n",
    "print(BenchMark.ProperDistance(z1,z2))"
   ]
  },
  {
   "cell_type": "markdown",
   "metadata": {},
   "source": [
    "## Question 2 E)"
   ]
  },
  {
   "cell_type": "code",
   "execution_count": 48,
   "metadata": {},
   "outputs": [
    {
     "name": "stdout",
     "output_type": "stream",
     "text": [
      "2935.0 Mpc\n"
     ]
    }
   ],
   "source": [
    "# What is the size of the observable universe at z=2? \n",
    "print(np.round(BenchMark.ProperDistance(2,5000)))"
   ]
  },
  {
   "cell_type": "code",
   "execution_count": 30,
   "metadata": {},
   "outputs": [
    {
     "name": "stdout",
     "output_type": "stream",
     "text": [
      "4.809264609307951\n"
     ]
    }
   ],
   "source": [
    "# how much larger is the universe now vs then?\n",
    "print(BenchMark.ProperDistance(0,5000)/BenchMark.ProperDistance(2,5000))\n"
   ]
  },
  {
   "cell_type": "markdown",
   "metadata": {},
   "source": [
    "##  Question 2 F)\n",
    "Plot the Horizon Distance as a Function of Redshift out to z=10 for the BenchMark and Einstein DeSitter Cosmology\n"
   ]
  },
  {
   "cell_type": "code",
   "execution_count": 31,
   "metadata": {},
   "outputs": [],
   "source": [
    "zmax = 10\n",
    "zmin = 0.001\n",
    "zrange2 = np.arange(zmin, zmax, 0.5)"
   ]
  },
  {
   "cell_type": "code",
   "execution_count": 32,
   "metadata": {},
   "outputs": [],
   "source": [
    "# What is the size of the universe at each redshit in each cosmology\n",
    "HorizonBench = [BenchMark.ProperDistance(i,1000).value for i in zrange2]\n",
    "HorizonDeSitter = [DeSitter.ProperDistance(i,1000).value for i in zrange2]"
   ]
  },
  {
   "cell_type": "code",
   "execution_count": 33,
   "metadata": {},
   "outputs": [
    {
     "data": {
      "image/png": "[encoded data removed]",
      "text/plain": [
       "<Figure size 800x800 with 1 Axes>"
      ]
     },
     "metadata": {},
     "output_type": "display_data"
    }
   ],
   "source": [
    "# Plot the Horizon Distance as a Function of Redshift out to z=10\n",
    "##################################################################\n",
    "\n",
    "fig = plt.figure(figsize=(8,8))\n",
    "ax = plt.subplot(111)\n",
    "\n",
    "\n",
    "# Comoving Distance\n",
    "# FILL THIS IN\n",
    "plt.semilogy(zrange2 +1, HorizonBench, linewidth=5, label='BenchMark')\n",
    "\n",
    "plt.semilogy(zrange2 +1, HorizonDeSitter , \n",
    "             linewidth=5, linestyle='--', label='DeSitter')\n",
    "\n",
    "\n",
    "# Add axis labels\n",
    "plt.xlabel('1+z', fontsize=22)\n",
    "plt.ylabel('Horizon Distance (Mpc)', fontsize=22)\n",
    "\n",
    "\n",
    "#adjust tick label font size\n",
    "label_size = 22\n",
    "matplotlib.rcParams['xtick.labelsize'] = label_size \n",
    "matplotlib.rcParams['ytick.labelsize'] = label_size\n",
    "\n",
    "legend = ax.legend(loc='upper right',fontsize=20)\n",
    "\n",
    "# Save to a file\n",
    "plt.savefig('Lab12_HorizonDistance.png')"
   ]
  },
  {
   "cell_type": "markdown",
   "metadata": {},
   "source": [
    "This is the size of the observable universe as a function of time"
   ]
  },
  {
   "cell_type": "markdown",
   "metadata": {},
   "source": [
    "## Question 3 B)\n",
    "\n",
    " Luminosity distances are used to measure distances and infer redshifts for standard candles. \n",
    "\n",
    " Consider that you observe a Type Ia Supernova with an apparent magnitude, m = 25.1\n",
    " \n",
    " The absolute magnitude of a Type Ia Supernova is -19.3±0.03 \n",
    "\n",
    " Using the Benchmark cosmology, determine this Supernova's redshift and its Proper Distance from us.\n"
   ]
  },
  {
   "cell_type": "code",
   "execution_count": 34,
   "metadata": {},
   "outputs": [],
   "source": [
    "# Question 3 B) \n",
    "\n",
    "m = 25.1 # apparent magnitude\n",
    "M = -19.3 # absolute magnitude Type 1A\n"
   ]
  },
  {
   "cell_type": "code",
   "execution_count": 35,
   "metadata": {},
   "outputs": [
    {
     "name": "stdout",
     "output_type": "stream",
     "text": [
      "7585.8 Mpc\n"
     ]
    }
   ],
   "source": [
    "# What is the Luminosity Distance? \n",
    "# m-M = 5*log(DL/Mpc) + 25\n",
    "# DL = 10**( (m-M-25)/5))\n",
    "\n",
    "DLSne = np.around(10**((m - M - 25.0)/5.0),1)*u.Mpc\n",
    "print(DLSne)"
   ]
  },
  {
   "cell_type": "code",
   "execution_count": 36,
   "metadata": {},
   "outputs": [
    {
     "name": "stdout",
     "output_type": "stream",
     "text": [
      "7586.034514269804 Mpc\n"
     ]
    }
   ],
   "source": [
    "# Now reverse engineer the problem. What redshift\n",
    "#gives you the computed Luminosity Distance? \n",
    "# in reality the redshift is determined by \n",
    "#identifying the redshift of the host.  \n",
    "print(BenchMark.LuminosityDistance(1.0945))"
   ]
  },
  {
   "cell_type": "code",
   "execution_count": 37,
   "metadata": {},
   "outputs": [],
   "source": [
    "zSNe = 1.0945"
   ]
  },
  {
   "cell_type": "code",
   "execution_count": 38,
   "metadata": {},
   "outputs": [
    {
     "name": "stdout",
     "output_type": "stream",
     "text": [
      "3621.8832725088587 Mpc\n"
     ]
    }
   ],
   "source": [
    "# What is the proper distance to this supernova \n",
    "#given our current rate of expansion? \n",
    "print(BenchMark.ProperDistance(0,zSNe))"
   ]
  },
  {
   "cell_type": "code",
   "execution_count": 39,
   "metadata": {},
   "outputs": [
    {
     "name": "stdout",
     "output_type": "stream",
     "text": [
      "3621.8832725088587 Mpc\n"
     ]
    }
   ],
   "source": [
    "# Equivalently since z0 = 0 \n",
    "print(BenchMark.ComovingDistance(0,zSNe))"
   ]
  },
  {
   "cell_type": "markdown",
   "metadata": {},
   "source": [
    "## Question 4 C) "
   ]
  },
  {
   "cell_type": "code",
   "execution_count": 40,
   "metadata": {},
   "outputs": [
    {
     "name": "stdout",
     "output_type": "stream",
     "text": [
      "8.2 kpc\n"
     ]
    }
   ],
   "source": [
    "# Question 4 C)  \n",
    "\n",
    "# Angle = Size/DA\n",
    "# What is the tangential separation between two galaxies \n",
    "#separated by 1 arcsec at z=1 in the Benchmark Cosmology\n",
    "# since both at the same redshift there is not LOS difference\n",
    "rp = np.around(BenchMark.Size(1,1),1)\n",
    "print(rp)"
   ]
  },
  {
   "cell_type": "code",
   "execution_count": null,
   "metadata": {
    "collapsed": true
   },
   "outputs": [],
   "source": []
  }
 ],
 "metadata": {
  "kernelspec": {
   "display_name": "Python 3 (ipykernel)",
   "language": "python",
   "name": "python3"
  },
  "language_info": {
   "codemirror_mode": {
    "name": "ipython",
    "version": 3
   },
   "file_extension": ".py",
   "mimetype": "text/x-python",
   "name": "python",
   "nbconvert_exporter": "python",
   "pygments_lexer": "ipython3",
   "version": "3.9.13"
  }
 },
 "nbformat": 4,
 "nbformat_minor": 2
}
